{
 "cells": [
  {
   "cell_type": "markdown",
   "id": "e7e5de1c",
   "metadata": {},
   "source": [
    "import pandas as pd\n",
    "import numpy as np"
   ]
  },
  {
   "cell_type": "markdown",
   "id": "a4f25e3d",
   "metadata": {},
   "source": [
    "df = pd.read_excel('Find-Duplicates-and-show-the-count','sheet1')"
   ]
  },
  {
   "cell_type": "markdown",
   "id": "2c448181",
   "metadata": {},
   "source": [
    "Select cell F2.\n",
    "Assign the formula =COUNTIF($C$2:$C$8,E2)-1.\n",
    "Press Enter to apply the formula"
   ]
  }
 ],
 "metadata": {
  "kernelspec": {
   "display_name": "Python 3 (ipykernel)",
   "language": "python",
   "name": "python3"
  },
  "language_info": {
   "codemirror_mode": {
    "name": "ipython",
    "version": 3
   },
   "file_extension": ".py",
   "mimetype": "text/x-python",
   "name": "python",
   "nbconvert_exporter": "python",
   "pygments_lexer": "ipython3",
   "version": "3.9.7"
  }
 },
 "nbformat": 4,
 "nbformat_minor": 5
}
